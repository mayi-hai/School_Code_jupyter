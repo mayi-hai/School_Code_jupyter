{
 "cells": [
  {
   "cell_type": "code",
   "execution_count": 3,
   "metadata": {},
   "outputs": [],
   "source": [
    "#导入书籍\n",
    "import pandas as pd\n",
    "# 有的环境配置下read_table出错，因此改用read_csv\n",
    "raw = pd.read_csv(\"金庸-射雕英雄传txt精校版.txt\",\n",
    "                  names = ['txt'], sep ='aaa', encoding =\"GBK\" ,engine='python')\n",
    "# 章节判断用变量预处理\n",
    "def m_head(tmpstr):\n",
    "    return tmpstr[:1]\n",
    "def m_mid(tmpstr):\n",
    "    return tmpstr.find(\"回 \")\n",
    "raw['head'] = raw.txt.apply(m_head)\n",
    "raw['mid'] = raw.txt.apply(m_mid)\n",
    "raw['len'] = raw.txt.apply(len)\n",
    "# 章节判断\n",
    "chapnum = 0\n",
    "for i in range(len(raw)):\n",
    "    if raw['head'][i] == \"第\" and raw['mid'][i] > 0 and raw['len'][i] < 30 :\n",
    "        chapnum += 1\n",
    "    if chapnum >= 40 and raw['txt'][i] == \"附录一：成吉思汗家族\" :\n",
    "        chapnum = 0\n",
    "    raw.loc[i, 'chap'] = chapnum  \n",
    "# 删除临时变量\n",
    "del raw['head']\n",
    "del raw['mid']\n",
    "del raw['len']\n",
    "raw.head(0)\n",
    "rawgrp = raw.groupby('chap')\n",
    "chapter = rawgrp.sum()##.agg(sum) # 只有字符串列的情况下，sum函数自动转为合并字符串\n",
    "chapter = chapter[chapter.index != 0]\n",
    "#第三四段内容\n",
    "chapter = chapter.txt[3]+chapter.txt[4]"
   ]
  },
  {
   "cell_type": "code",
   "execution_count": 8,
   "metadata": {},
   "outputs": [
    {
     "data": {
      "text/plain": [
       "[('铁木真', 0.13626546781284937),\n",
       " ('郭靖', 0.0817636657844646),\n",
       " ('柯镇恶', 0.0755037947551579),\n",
       " ('韩小莹', 0.06856091707652268),\n",
       " ('哲别', 0.06422161852737568),\n",
       " ('拖雷', 0.046356070188021785),\n",
       " ('韩宝驹', 0.045996564620958254),\n",
       " ('朱聪', 0.04165726607181125),\n",
       " ('梅超风', 0.04165726607181125),\n",
       " ('丘处机', 0.03796879707411252),\n",
       " ('全金发', 0.037317967522664246),\n",
       " ('张阿生', 0.03471438839317604),\n",
       " ('陈玄风', 0.03471438839317604),\n",
       " ('段天德', 0.03384652868334664),\n",
       " ('完颜洪熙', 0.032978668973517235),\n",
       " ('李萍', 0.03164054486796371),\n",
       " ('博尔', 0.029819683306482762),\n",
       " ('蒙古', 0.02861885878071579),\n",
       " ('王罕', 0.026237213717023596),\n",
       " ('江南七怪', 0.02603579129488203)]"
      ]
     },
     "execution_count": 8,
     "metadata": {},
     "output_type": "execute_result"
    }
   ],
   "source": [
    "import jieba\n",
    "import jieba.analyse\n",
    "\n",
    "# 注意：函数是在使用默认的TFIDF模型进行分析！\n",
    "jieba.analyse.extract_tags(chapter, withWeight = True) # 要求返回权重值"
   ]
  },
  {
   "cell_type": "code",
   "execution_count": 10,
   "metadata": {},
   "outputs": [
    {
     "data": {
      "text/plain": [
       "[('铁木真', 0.1549749685536658),\n",
       " ('郭靖', 0.10745507449253633),\n",
       " ('柯镇恶', 0.085870605412178),\n",
       " ('朱聪', 0.07896147624108321),\n",
       " ('韩小莹', 0.07797445778806968),\n",
       " ('哲别', 0.07303936552300197),\n",
       " ('拖雷', 0.05272084435601057),\n",
       " ('韩宝驹', 0.05231197800971763),\n",
       " ('梅超风', 0.04737688574464993),\n",
       " ('丘处机', 0.04318198313209214)]"
      ]
     },
     "execution_count": 10,
     "metadata": {},
     "output_type": "execute_result"
    }
   ],
   "source": [
    "# 应用自定义词典改善分词效果\n",
    "jieba.load_userdict('金庸小说词库.txt') # dict为自定义词典的路径\n",
    "\n",
    "# 在TFIDF计算中直接应用停用词表\n",
    "jieba.analyse.set_stop_words('停用词.txt')\n",
    "\n",
    "TFres = jieba.analyse.extract_tags(chapter, withWeight = True)\n",
    "TFres[:10]"
   ]
  },
  {
   "cell_type": "code",
   "execution_count": 11,
   "metadata": {},
   "outputs": [
    {
     "data": {
      "text/plain": [
       "[('铁木真', 0.17470226618339663),\n",
       " ('郭靖', 0.10264991911340818),\n",
       " ('柯镇恶', 0.085870605412178),\n",
       " ('朱聪', 0.07896147624108321),\n",
       " ('韩小莹', 0.07797445778806968),\n",
       " ('一个', 0.07402638397601552),\n",
       " ('哲别', 0.07303936552300197),\n",
       " ('拖雷', 0.05922110718081241),\n",
       " ('韩宝驹', 0.05231197800971763),\n",
       " ('孩子', 0.05231197800971763)]"
      ]
     },
     "execution_count": 11,
     "metadata": {},
     "output_type": "execute_result"
    }
   ],
   "source": [
    "# 使用自定义TF-IDF频率文件\n",
    "jieba.analyse.set_idf_path(\"idf.txt.big\")\n",
    "TFres1 = jieba.analyse.extract_tags(chapter, withWeight = True)\n",
    "TFres1[:10]"
   ]
  },
  {
   "cell_type": "code",
   "execution_count": null,
   "metadata": {},
   "outputs": [],
   "source": []
  }
 ],
 "metadata": {
  "kernelspec": {
   "display_name": "Python 3",
   "language": "python",
   "name": "python3"
  },
  "language_info": {
   "codemirror_mode": {
    "name": "ipython",
    "version": 3
   },
   "file_extension": ".py",
   "mimetype": "text/x-python",
   "name": "python",
   "nbconvert_exporter": "python",
   "pygments_lexer": "ipython3",
   "version": "3.7.4"
  }
 },
 "nbformat": 4,
 "nbformat_minor": 2
}
