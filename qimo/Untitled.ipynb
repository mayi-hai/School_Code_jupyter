{
 "cells": [
  {
   "cell_type": "code",
   "execution_count": 1,
   "metadata": {},
   "outputs": [
    {
     "name": "stderr",
     "output_type": "stream",
     "text": [
      "Building prefix dict from the default dictionary ...\n",
      "Loading model from cache C:\\Users\\ADMINI~1\\AppData\\Local\\Temp\\jieba.cache\n",
      "Loading model cost 2.622 seconds.\n",
      "Prefix dict has been built succesfully.\n"
     ]
    }
   ],
   "source": [
    "import pandas as pd\n",
    "import jieba\n",
    "import jieba.analyse\n",
    "# 载入语料射雕英雄传\n",
    "raw = pd.read_csv(\"金庸-射雕英雄传txt精校版.txt\",\n",
    "                  names = ['txt'], sep ='aaa', encoding =\"utf-8\" ,engine='python')\n",
    "# 章节判断用变量预处理\n",
    "def m_head(tmpstr):\n",
    "    return tmpstr[:1]\n",
    "def m_mid(tmpstr):\n",
    "    return tmpstr.find(\"回 \")\n",
    "raw['head'] = raw.txt.apply(m_head)\n",
    "raw['mid'] = raw.txt.apply(m_mid)\n",
    "raw['len'] = raw.txt.apply(len)\n",
    "# 章节判断\n",
    "chapnum = 0\n",
    "for i in range(len(raw)):\n",
    "    if raw['head'][i] == \"第\" and raw['mid'][i] > 0 and raw['len'][i] < 30 :\n",
    "        chapnum += 1\n",
    "    if chapnum >= 40 and raw['txt'][i] == \"附录一：成吉思汗家族\" :\n",
    "        chapnum = 0\n",
    "    raw.loc[i, 'chap'] = chapnum \n",
    "# 删除临时变量\n",
    "del raw['head']\n",
    "del raw['mid']\n",
    "del raw['len']\n",
    "# 提取出三四章内容\n",
    "chap3=list(raw[raw.chap == 3].txt)\n",
    "chap4=list(raw[raw.chap == 4].txt)\n",
    "# 对三四章内容提取关键词\n",
    "chap3_g=[]\n",
    "chap4_g=[]\n",
    "for w in chap3:\n",
    "    chap3_g.append(jieba.analyse.extract_tags(w,20))\n",
    "for w in chap4:\n",
    "    chap4_g.append(jieba.analyse.extract_tags(w,20))\n",
    "#选取训练集和测试集\n",
    "test_chap3=chap3_g[150:190]\n",
    "train_chap3=chap3_g[10:150]\n",
    "test_chap4=chap4_g[150:190]\n",
    "train_chap4=chap4_g[10:150]\n",
    "# 进行训练集计算"
   ]
  },
  {
   "cell_type": "code",
   "execution_count": 2,
   "metadata": {},
   "outputs": [],
   "source": [
    "a3=[]\n",
    "for i in range(len(train_chap3)):    \n",
    "    for j in train_chap3[i]:\n",
    "        a3.append(j)\n",
    "a4=[]\n",
    "for i in range(len(train_chap4)):    \n",
    "    for j in train_chap4[i]:\n",
    "        a4.append(j)\n",
    "b3={}\n",
    "for i in a3:\n",
    "    if i in b3:\n",
    "        b3[i] += 1\n",
    "    else:\n",
    "        b3[i] = 1\n",
    "b4={}\n",
    "for i in a4:\n",
    "    if i in b4:\n",
    "        b4[i] += 1\n",
    "    else:\n",
    "        b4[i] = 1\n",
    "c3=list(set(b3))\n",
    "c4=list(set(b4))\n",
    "PYA3={}\n",
    "for i in c3:\n",
    "    if i in b3:\n",
    "        PYA3[i]=b3[i]/len(a3)\n",
    "PYA4={}\n",
    "for i in c4:\n",
    "    if i in b4:\n",
    "        PYA4[i]=b4[i]/len(a4)\n",
    "# 对第三章训练集判断"
   ]
  },
  {
   "cell_type": "code",
   "execution_count": 6,
   "metadata": {},
   "outputs": [
    {
     "data": {
      "text/plain": [
       "2541"
      ]
     },
     "execution_count": 6,
     "metadata": {},
     "output_type": "execute_result"
    }
   ],
   "source": [
    "len(a3)"
   ]
  },
  {
   "cell_type": "code",
   "execution_count": 7,
   "metadata": {},
   "outputs": [
    {
     "data": {
      "text/plain": [
       "1849"
      ]
     },
     "execution_count": 7,
     "metadata": {},
     "output_type": "execute_result"
    }
   ],
   "source": [
    "len(b3)"
   ]
  },
  {
   "cell_type": "code",
   "execution_count": null,
   "metadata": {},
   "outputs": [],
   "source": []
  }
 ],
 "metadata": {
  "kernelspec": {
   "display_name": "Python 3",
   "language": "python",
   "name": "python3"
  },
  "language_info": {
   "codemirror_mode": {
    "name": "ipython",
    "version": 3
   },
   "file_extension": ".py",
   "mimetype": "text/x-python",
   "name": "python",
   "nbconvert_exporter": "python",
   "pygments_lexer": "ipython3",
   "version": "3.7.4"
  }
 },
 "nbformat": 4,
 "nbformat_minor": 2
}
