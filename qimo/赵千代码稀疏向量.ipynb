{
 "cells": [
  {
   "cell_type": "code",
   "execution_count": 1,
   "metadata": {},
   "outputs": [],
   "source": [
    "import pandas as pd\n",
    "# 载入语料\n",
    "raw = pd.read_csv(\"金庸-射雕英雄传txt精校版.txt\",\n",
    "                  names = ['txt'], sep ='aaa', encoding =\"utf-8\" ,engine='python')\n",
    "\n",
    "# 章节判断用变量预处理\n",
    "def m_head(tmpstr):\n",
    "    return tmpstr[:1]\n",
    "\n",
    "def m_mid(tmpstr):\n",
    "    return tmpstr.find(\"回 \")\n",
    "\n",
    "raw['head'] = raw.txt.apply(m_head)\n",
    "raw['mid'] = raw.txt.apply(m_mid)\n",
    "raw['len'] = raw.txt.apply(len)\n",
    "# 章节判断\n",
    "chapnum = 0\n",
    "for i in range(len(raw)):\n",
    "    if raw['head'][i] == \"第\" and raw['mid'][i] > 0 and raw['len'][i] < 30 :\n",
    "        chapnum += 1\n",
    "    if chapnum >= 40 and raw['txt'][i] == \"附录一：成吉思汗家族\" :\n",
    "        chapnum = 0\n",
    "    raw.loc[i, 'chap'] = chapnum\n",
    "    \n",
    "# 删除临时变量\n",
    "del raw['head']\n",
    "del raw['mid']\n",
    "del raw['len']\n",
    "\n",
    "chap3 = raw[raw['chap'] == 3].copy()\n",
    "chap3.reset_index(drop=True, inplace=True)\n",
    "chap3['paraidx'] = chap3.index\n",
    "del chap3['chap']\n",
    "del chap3['paraidx']\n",
    "\n",
    "chap4 = raw[raw['chap'] == 4].copy()\n",
    "chap4.reset_index(drop=True, inplace=True)\n",
    "chap4['paraidx'] = chap4.index\n",
    "del chap4['chap']\n",
    "del chap4['paraidx']"
   ]
  },
  {
   "cell_type": "code",
   "execution_count": 3,
   "metadata": {},
   "outputs": [],
   "source": [
    "import jieba\n",
    "\n",
    "cuttxt = lambda chap3: \" \".join(jieba.lcut(chap3)) # 这里不做任何清理工作，以保留情感词\n",
    "chap3[\"cut1\"] = chap3.txt.apply(cuttxt)"
   ]
  },
  {
   "cell_type": "code",
   "execution_count": 4,
   "metadata": {},
   "outputs": [],
   "source": [
    "import jieba\n",
    "\n",
    "cuttxt = lambda chap4: \" \".join(jieba.lcut(chap4)) # 这里不做任何清理工作，以保留情感词\n",
    "chap4[\"cut2\"] = chap4.txt.apply(cuttxt)"
   ]
  },
  {
   "cell_type": "code",
   "execution_count": 5,
   "metadata": {},
   "outputs": [
    {
     "name": "stdout",
     "output_type": "stream",
     "text": [
      "338\n"
     ]
    },
    {
     "data": {
      "text/html": [
       "<div>\n",
       "<style scoped>\n",
       "    .dataframe tbody tr th:only-of-type {\n",
       "        vertical-align: middle;\n",
       "    }\n",
       "\n",
       "    .dataframe tbody tr th {\n",
       "        vertical-align: top;\n",
       "    }\n",
       "\n",
       "    .dataframe thead th {\n",
       "        text-align: right;\n",
       "    }\n",
       "</style>\n",
       "<table border=\"1\" class=\"dataframe\">\n",
       "  <thead>\n",
       "    <tr style=\"text-align: right;\">\n",
       "      <th></th>\n",
       "      <th>txt</th>\n",
       "      <th>chap</th>\n",
       "    </tr>\n",
       "  </thead>\n",
       "  <tbody>\n",
       "    <tr>\n",
       "      <td>0</td>\n",
       "      <td>忽听得巨钟下的铜缸内当当当响声不绝，不知里面是何怪物，众僧面面相觑，手足无措，齐声口诵《高王...</td>\n",
       "      <td>3.0</td>\n",
       "    </tr>\n",
       "    <tr>\n",
       "      <td>1</td>\n",
       "      <td>柯镇恶双腿中剑，受伤不轻，神智却仍清明，从怀中摸出解毒药来，命僧人分别去给丘处机及韩小莹服下...</td>\n",
       "      <td>3.0</td>\n",
       "    </tr>\n",
       "    <tr>\n",
       "      <td>2</td>\n",
       "      <td>朱聪与南希仁所受内伤甚重。全金发腰间所受的这一脚也着实不轻。张阿生胳臂折断，胸口受震，一时痛...</td>\n",
       "      <td>3.0</td>\n",
       "    </tr>\n",
       "    <tr>\n",
       "      <td>3</td>\n",
       "      <td>过了数日，丘处机与韩小莹身上所中的毒都消解了。丘处机精通医道，开了药方给朱聪等人调治，又分别...</td>\n",
       "      <td>3.0</td>\n",
       "    </tr>\n",
       "    <tr>\n",
       "      <td>4</td>\n",
       "      <td>过了一会，韩小莹首先说道：“丘道长能干英明，天下皆知，我们七兄弟也不是初走江湖之人，这次大家...</td>\n",
       "      <td>3.0</td>\n",
       "    </tr>\n",
       "  </tbody>\n",
       "</table>\n",
       "</div>"
      ],
      "text/plain": [
       "                                                 txt  chap\n",
       "0  忽听得巨钟下的铜缸内当当当响声不绝，不知里面是何怪物，众僧面面相觑，手足无措，齐声口诵《高王...   3.0\n",
       "1  柯镇恶双腿中剑，受伤不轻，神智却仍清明，从怀中摸出解毒药来，命僧人分别去给丘处机及韩小莹服下...   3.0\n",
       "2  朱聪与南希仁所受内伤甚重。全金发腰间所受的这一脚也着实不轻。张阿生胳臂折断，胸口受震，一时痛...   3.0\n",
       "3  过了数日，丘处机与韩小莹身上所中的毒都消解了。丘处机精通医道，开了药方给朱聪等人调治，又分别...   3.0\n",
       "4  过了一会，韩小莹首先说道：“丘道长能干英明，天下皆知，我们七兄弟也不是初走江湖之人，这次大家...   3.0"
      ]
     },
     "execution_count": 5,
     "metadata": {},
     "output_type": "execute_result"
    }
   ],
   "source": [
    "# 从原始语料df中提取出所需的前两章段落\n",
    "raw12 = raw[raw.chap.isin([3,4])]\n",
    "raw12ana = raw12.iloc[list(raw12.txt.apply(len) > 50), :] # 只使用超过50字的段落\n",
    "raw12ana.reset_index(drop = True, inplace = True)\n",
    "print(len(raw12ana))\n",
    "raw12ana.head()"
   ]
  },
  {
   "cell_type": "code",
   "execution_count": 6,
   "metadata": {},
   "outputs": [
    {
     "name": "stderr",
     "output_type": "stream",
     "text": [
      "C:\\Users\\Administrator\\Anaconda3\\lib\\site-packages\\ipykernel_launcher.py:5: SettingWithCopyWarning: \n",
      "A value is trying to be set on a copy of a slice from a DataFrame.\n",
      "Try using .loc[row_indexer,col_indexer] = value instead\n",
      "\n",
      "See the caveats in the documentation: http://pandas.pydata.org/pandas-docs/stable/user_guide/indexing.html#returning-a-view-versus-a-copy\n",
      "  \"\"\"\n"
     ]
    },
    {
     "data": {
      "text/html": [
       "<div>\n",
       "<style scoped>\n",
       "    .dataframe tbody tr th:only-of-type {\n",
       "        vertical-align: middle;\n",
       "    }\n",
       "\n",
       "    .dataframe tbody tr th {\n",
       "        vertical-align: top;\n",
       "    }\n",
       "\n",
       "    .dataframe thead th {\n",
       "        text-align: right;\n",
       "    }\n",
       "</style>\n",
       "<table border=\"1\" class=\"dataframe\">\n",
       "  <thead>\n",
       "    <tr style=\"text-align: right;\">\n",
       "      <th></th>\n",
       "      <th>txt</th>\n",
       "      <th>chap</th>\n",
       "      <th>cleantxt</th>\n",
       "    </tr>\n",
       "  </thead>\n",
       "  <tbody>\n",
       "    <tr>\n",
       "      <td>0</td>\n",
       "      <td>忽听得巨钟下的铜缸内当当当响声不绝，不知里面是何怪物，众僧面面相觑，手足无措，齐声口诵《高王...</td>\n",
       "      <td>3.0</td>\n",
       "      <td>忽 听 得 巨钟 下 的 铜 缸内 当当 当 响声 不 绝 ， 不知 里面 是 何 怪物 ，...</td>\n",
       "    </tr>\n",
       "    <tr>\n",
       "      <td>1</td>\n",
       "      <td>柯镇恶双腿中剑，受伤不轻，神智却仍清明，从怀中摸出解毒药来，命僧人分别去给丘处机及韩小莹服下...</td>\n",
       "      <td>3.0</td>\n",
       "      <td>柯镇恶 双腿 中剑 ， 受伤 不 轻 ， 神智 却 仍 清明 ， 从 怀中 摸 出 解毒药 ...</td>\n",
       "    </tr>\n",
       "    <tr>\n",
       "      <td>2</td>\n",
       "      <td>朱聪与南希仁所受内伤甚重。全金发腰间所受的这一脚也着实不轻。张阿生胳臂折断，胸口受震，一时痛...</td>\n",
       "      <td>3.0</td>\n",
       "      <td>朱聪 与 南希仁 所 受 内伤 甚重 。 全金发 腰间 所受 的 这 一脚 也 着实 不 轻...</td>\n",
       "    </tr>\n",
       "    <tr>\n",
       "      <td>3</td>\n",
       "      <td>过了数日，丘处机与韩小莹身上所中的毒都消解了。丘处机精通医道，开了药方给朱聪等人调治，又分别...</td>\n",
       "      <td>3.0</td>\n",
       "      <td>过 了 数日 ， 丘处机 与 韩小莹 身上 所中 的 毒 都 消解 了 。 丘处机 精通 医...</td>\n",
       "    </tr>\n",
       "    <tr>\n",
       "      <td>4</td>\n",
       "      <td>过了一会，韩小莹首先说道：“丘道长能干英明，天下皆知，我们七兄弟也不是初走江湖之人，这次大家...</td>\n",
       "      <td>3.0</td>\n",
       "      <td>过 了 一会 ， 韩小莹 首先 说道 ： “ 丘道长 能干 英明 ， 天下 皆知 ， 我们 ...</td>\n",
       "    </tr>\n",
       "  </tbody>\n",
       "</table>\n",
       "</div>"
      ],
      "text/plain": [
       "                                                 txt  chap  \\\n",
       "0  忽听得巨钟下的铜缸内当当当响声不绝，不知里面是何怪物，众僧面面相觑，手足无措，齐声口诵《高王...   3.0   \n",
       "1  柯镇恶双腿中剑，受伤不轻，神智却仍清明，从怀中摸出解毒药来，命僧人分别去给丘处机及韩小莹服下...   3.0   \n",
       "2  朱聪与南希仁所受内伤甚重。全金发腰间所受的这一脚也着实不轻。张阿生胳臂折断，胸口受震，一时痛...   3.0   \n",
       "3  过了数日，丘处机与韩小莹身上所中的毒都消解了。丘处机精通医道，开了药方给朱聪等人调治，又分别...   3.0   \n",
       "4  过了一会，韩小莹首先说道：“丘道长能干英明，天下皆知，我们七兄弟也不是初走江湖之人，这次大家...   3.0   \n",
       "\n",
       "                                            cleantxt  \n",
       "0  忽 听 得 巨钟 下 的 铜 缸内 当当 当 响声 不 绝 ， 不知 里面 是 何 怪物 ，...  \n",
       "1  柯镇恶 双腿 中剑 ， 受伤 不 轻 ， 神智 却 仍 清明 ， 从 怀中 摸 出 解毒药 ...  \n",
       "2  朱聪 与 南希仁 所 受 内伤 甚重 。 全金发 腰间 所受 的 这 一脚 也 着实 不 轻...  \n",
       "3  过 了 数日 ， 丘处机 与 韩小莹 身上 所中 的 毒 都 消解 了 。 丘处机 精通 医...  \n",
       "4  过 了 一会 ， 韩小莹 首先 说道 ： “ 丘道长 能干 英明 ， 天下 皆知 ， 我们 ...  "
      ]
     },
     "execution_count": 6,
     "metadata": {},
     "output_type": "execute_result"
    }
   ],
   "source": [
    "# 分词和预处理\n",
    "import jieba\n",
    "\n",
    "cuttxt = lambda x: \" \".join(jieba.lcut(x)) # 这里不做任何清理工作，以保留情感词\n",
    "raw12ana[\"cleantxt\"] = raw12ana.txt.apply(cuttxt) \n",
    "raw12ana.head()"
   ]
  },
  {
   "cell_type": "code",
   "execution_count": 12,
   "metadata": {},
   "outputs": [],
   "source": [
    "from sklearn.feature_extraction.text import CountVectorizer\n",
    "countvec = CountVectorizer() \n",
    "\n",
    "wordmtx = countvec.fit_transform(raw12ana.cleantxt)\n",
    "# 作用：将数据集划分为 训练集和测试集\n",
    "from sklearn.model_selection import train_test_split\n",
    "\n",
    "x_train, x_test, y_train, y_test = train_test_split(wordmtx, raw12ana.chap, \n",
    "    test_size = 0.3, random_state = 111)"
   ]
  },
  {
   "cell_type": "code",
   "execution_count": 14,
   "metadata": {},
   "outputs": [
    {
     "name": "stdout",
     "output_type": "stream",
     "text": [
      "  (0, 1490)\t1\n",
      "  (0, 2929)\t1\n",
      "  (0, 5021)\t1\n",
      "  (0, 4670)\t1\n",
      "  (0, 12)\t2\n",
      "  (0, 3348)\t1\n",
      "  (0, 802)\t1\n",
      "  (0, 1445)\t1\n",
      "  (0, 423)\t1\n",
      "  (0, 1783)\t1\n",
      "  (0, 4810)\t1\n",
      "  (0, 677)\t1\n",
      "  (0, 1305)\t1\n",
      "  (0, 559)\t1\n",
      "  (0, 3416)\t1\n",
      "  (0, 3778)\t1\n",
      "  (0, 5524)\t1\n",
      "  (0, 1406)\t1\n",
      "  (0, 2577)\t1\n",
      "  (0, 800)\t1\n",
      "  (0, 3364)\t1\n",
      "  (0, 1002)\t1\n",
      "  (0, 3217)\t1\n",
      "  (0, 4483)\t1\n",
      "  (0, 3576)\t1\n",
      "  :\t:\n",
      "  (101, 963)\t1\n",
      "  (101, 2247)\t1\n",
      "  (101, 717)\t1\n",
      "  (101, 1850)\t1\n",
      "  (101, 5036)\t1\n",
      "  (101, 487)\t1\n",
      "  (101, 5671)\t1\n",
      "  (101, 1988)\t1\n",
      "  (101, 5432)\t1\n",
      "  (101, 285)\t1\n",
      "  (101, 4)\t1\n",
      "  (101, 4824)\t1\n",
      "  (101, 4614)\t1\n",
      "  (101, 1411)\t1\n",
      "  (101, 169)\t1\n",
      "  (101, 4435)\t1\n",
      "  (101, 1729)\t1\n",
      "  (101, 5355)\t1\n",
      "  (101, 5329)\t1\n",
      "  (101, 5362)\t1\n",
      "  (101, 817)\t1\n",
      "  (101, 3624)\t1\n",
      "  (101, 4036)\t1\n",
      "  (101, 2095)\t1\n",
      "  (101, 3430)\t1\n"
     ]
    }
   ],
   "source": [
    "print(x_test)"
   ]
  },
  {
   "cell_type": "code",
   "execution_count": 16,
   "metadata": {},
   "outputs": [],
   "source": [
    "m = x_test.todense()"
   ]
  },
  {
   "cell_type": "code",
   "execution_count": 17,
   "metadata": {},
   "outputs": [
    {
     "data": {
      "text/plain": [
       "matrix([[0, 0, 0, ..., 0, 0, 0],\n",
       "        [0, 0, 0, ..., 0, 0, 0],\n",
       "        [0, 0, 0, ..., 0, 0, 0],\n",
       "        ...,\n",
       "        [0, 0, 0, ..., 0, 0, 0],\n",
       "        [0, 0, 0, ..., 0, 0, 0],\n",
       "        [0, 0, 0, ..., 0, 0, 0]], dtype=int64)"
      ]
     },
     "execution_count": 17,
     "metadata": {},
     "output_type": "execute_result"
    }
   ],
   "source": [
    "m"
   ]
  },
  {
   "cell_type": "code",
   "execution_count": null,
   "metadata": {},
   "outputs": [],
   "source": []
  }
 ],
 "metadata": {
  "kernelspec": {
   "display_name": "Python 3",
   "language": "python",
   "name": "python3"
  },
  "language_info": {
   "codemirror_mode": {
    "name": "ipython",
    "version": 3
   },
   "file_extension": ".py",
   "mimetype": "text/x-python",
   "name": "python",
   "nbconvert_exporter": "python",
   "pygments_lexer": "ipython3",
   "version": "3.7.4"
  }
 },
 "nbformat": 4,
 "nbformat_minor": 2
}
