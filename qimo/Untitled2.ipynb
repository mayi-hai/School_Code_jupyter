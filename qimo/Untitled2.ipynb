{
 "cells": [
  {
   "cell_type": "code",
   "execution_count": 4,
   "metadata": {},
   "outputs": [],
   "source": [
    "import pandas as pd\n",
    "# 载入语料射雕英雄传\n",
    "raw1 = pd.read_csv(\"金庸-射雕英雄传txt精校版.txt\",\n",
    "                  names = ['txt'], sep ='aaa', encoding =\"utf-8\" ,engine='python')\n"
   ]
  },
  {
   "cell_type": "code",
   "execution_count": 5,
   "metadata": {},
   "outputs": [],
   "source": [
    "import pandas as pd\n",
    "# 载入语料天龙八部\n",
    "raw2 = pd.read_csv(\"附件3_金庸-天龙八部txt精校版.txt\",\n",
    "                  names = ['txt'], sep ='aaa', encoding =\"utf-8\" ,engine='python')"
   ]
  },
  {
   "cell_type": "code",
   "execution_count": 28,
   "metadata": {},
   "outputs": [],
   "source": [
    "chap1=raw1[1500:2000]\n",
    "chap2=raw2[1500:2000]"
   ]
  },
  {
   "cell_type": "code",
   "execution_count": 33,
   "metadata": {},
   "outputs": [],
   "source": [
    "import numpy as np\n",
    "para1_data = np.array(chap1)#np.ndarray()\n",
    "para1=para1_data.tolist()#list\n",
    "para2_data = np.array(chap2)#np.ndarray()\n",
    "para2=para2_data.tolist()#list"
   ]
  },
  {
   "cell_type": "code",
   "execution_count": 41,
   "metadata": {},
   "outputs": [],
   "source": [
    "# 提取出射雕英雄传和天龙八部的500段存入一维数组sd和tl\n",
    "from tkinter import _flatten\n",
    "sd = list(_flatten(para1))\n",
    "tl = list(_flatten(para2))"
   ]
  },
  {
   "cell_type": "code",
   "execution_count": 42,
   "metadata": {},
   "outputs": [],
   "source": [
    "# 提取关键字\n",
    "import jieba\n",
    "import jieba.analyse\n",
    "sd_g=[]\n",
    "tl_g=[]\n",
    "for w in sd:\n",
    "    sd_g.append(jieba.analyse.extract_tags(w,20))\n",
    "for w in tl:\n",
    "    tl_g.append(jieba.analyse.extract_tags(w,20))"
   ]
  },
  {
   "cell_type": "code",
   "execution_count": 52,
   "metadata": {},
   "outputs": [],
   "source": [
    "#选取训练集和测试集\n",
    "test_sd=sd_g[:150]\n",
    "train_sd=sd_g[150:]\n",
    "test_tl=tl_g[:150]\n",
    "train_tl=tl_g[150:]"
   ]
  },
  {
   "cell_type": "code",
   "execution_count": 55,
   "metadata": {},
   "outputs": [],
   "source": [
    "# 进行训练集计算\n",
    "# 求P(A|Y)=P(Y|A)*P(A)/P(Y)\n",
    "a1=[]\n",
    "for i in range(len(train_sd)):    \n",
    "    for j in train_sd[i]:\n",
    "        a1.append(j)\n",
    "a2=[]\n",
    "for i in range(len(train_tl)):    \n",
    "    for j in train_tl[i]:\n",
    "        a2.append(j)\n",
    "b1={}\n",
    "for i in a1:\n",
    "    if i in b1:\n",
    "        b1[i] += 1\n",
    "    else:\n",
    "        b1[i] = 1\n",
    "b2={}\n",
    "for i in a2:\n",
    "    if i in b2:\n",
    "        b2[i] += 1\n",
    "    else:\n",
    "        b2[i] = 1\n",
    "c1=list(set(b1))\n",
    "c2=list(set(b2))\n",
    "PYA1={}\n",
    "for i in c1:\n",
    "    if i in b1:\n",
    "        PYA1[i]=b1[i]/len(a1)\n",
    "PYA2={}\n",
    "for i in c2:\n",
    "    if i in b2:\n",
    "        PYA2[i]=b2[i]/len(a2)"
   ]
  },
  {
   "cell_type": "code",
   "execution_count": 64,
   "metadata": {},
   "outputs": [],
   "source": [
    "# 对射雕英雄传的训练集判断\n",
    "PP1=[]\n",
    "for j in range(150):\n",
    "    P1 = {}\n",
    "    for i in test_sd[j]:\n",
    "        if i in PYA1:\n",
    "            P1[i]=PYA1[i]\n",
    "        else:\n",
    "            P1[i]=0.0001\n",
    "    PP1.append(P1)\n",
    "\n",
    "Pl1=[]\n",
    "for j in range(150):\n",
    "    m=1\n",
    "    for i in PP1[j]:\n",
    "        m=m*PP1[j][i]\n",
    "    Pl1.append(m)\n",
    "\n",
    "PP2=[]\n",
    "for j in range(150):\n",
    "    P2 = {}\n",
    "    for i in test_sd[j]:\n",
    "        if i in PYA2:\n",
    "            P2[i]=PYA2[i]\n",
    "        else:\n",
    "            P2[i]=0.0001\n",
    "    PP2.append(P2)\n",
    "\n",
    "Pl2=[]\n",
    "for j in range(150):\n",
    "    m=1\n",
    "    for i in PP2[j]:\n",
    "        m=m*PP2[j][i]\n",
    "    Pl2.append(m)"
   ]
  },
  {
   "cell_type": "code",
   "execution_count": 65,
   "metadata": {},
   "outputs": [],
   "source": [
    "# 对第四章训练集判断\n",
    "BB1=[]\n",
    "for j in range(150):\n",
    "    B1 = {}\n",
    "    for i in test_tl[j]:\n",
    "        if i in PYA1:\n",
    "            B1[i]=PYA1[i]\n",
    "        else:\n",
    "            B1[i]=0.0001\n",
    "    BB1.append(B1)\n",
    "\n",
    "Bl1=[]\n",
    "for j in range(150):\n",
    "    m=1\n",
    "    for i in BB1[j]:\n",
    "        m=m*BB1[j][i]\n",
    "    Bl1.append(m)\n",
    "\n",
    "BB2=[]\n",
    "for j in range(150):\n",
    "    B2 = {}\n",
    "    for i in test_tl[j]:\n",
    "        if i in PYA2:\n",
    "            B2[i]=PYA2[i]\n",
    "        else:\n",
    "            B2[i]=0.0001\n",
    "    BB2.append(B2)\n",
    "\n",
    "Bl2=[]\n",
    "for j in range(150):\n",
    "    m=1\n",
    "    for i in BB2[j]:\n",
    "        m=m*BB2[j][i]\n",
    "    Bl2.append(m)"
   ]
  },
  {
   "cell_type": "code",
   "execution_count": 66,
   "metadata": {},
   "outputs": [],
   "source": [
    "# 进行判断，将测试集存入test列表中，将测试集的正确集存入true列表中\n",
    "test=[]\n",
    "true=[]\n",
    "for i in range(len(Pl1)):\n",
    "    if Pl1[i]>Pl2[i]:\n",
    "        test.append('1')\n",
    "    else:\n",
    "        test.append(\"2\")\n",
    "    true.append('1')\n",
    "for i in range(len(Bl1)):\n",
    "    if Bl2[i]>Bl1[i]:\n",
    "        test.append('2')\n",
    "    else:\n",
    "        test.append(\"1\")\n",
    "    true.append('2')"
   ]
  },
  {
   "cell_type": "code",
   "execution_count": 67,
   "metadata": {},
   "outputs": [
    {
     "name": "stdout",
     "output_type": "stream",
     "text": [
      "第一问\n",
      "               precision    recall  f1-score   support\n",
      "\n",
      "    class 射雕       0.98      0.97      0.97       150\n",
      "    class 天龙       0.97      0.98      0.97       150\n",
      "\n",
      "    accuracy                           0.97       300\n",
      "   macro avg       0.97      0.97      0.97       300\n",
      "weighted avg       0.97      0.97      0.97       300\n",
      "\n"
     ]
    }
   ],
   "source": [
    "from sklearn.metrics import classification_report\n",
    "target_names = ['class 射雕', 'class 天龙',]\n",
    "print(\"第一问\\n\",classification_report(true, test, target_names=target_names))"
   ]
  },
  {
   "cell_type": "code",
   "execution_count": null,
   "metadata": {},
   "outputs": [],
   "source": []
  }
 ],
 "metadata": {
  "kernelspec": {
   "display_name": "Python 3",
   "language": "python",
   "name": "python3"
  },
  "language_info": {
   "codemirror_mode": {
    "name": "ipython",
    "version": 3
   },
   "file_extension": ".py",
   "mimetype": "text/x-python",
   "name": "python",
   "nbconvert_exporter": "python",
   "pygments_lexer": "ipython3",
   "version": "3.7.4"
  }
 },
 "nbformat": 4,
 "nbformat_minor": 2
}
